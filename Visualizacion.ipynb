{
 "cells": [
  {
   "attachments": {},
   "cell_type": "markdown",
   "metadata": {},
   "source": [
    "## VISUALIZACION CON MATPLOTLIB"
   ]
  },
  {
   "cell_type": "code",
   "execution_count": 1,
   "metadata": {},
   "outputs": [],
   "source": [
    "import numpy as np\n",
    "import pandas as pd\n",
    "import copy as cp\n",
    "import matplotlib as plt"
   ]
  },
  {
   "cell_type": "code",
   "execution_count": 2,
   "metadata": {},
   "outputs": [],
   "source": [
    "dt=pd.read_csv('5m Sales Records.csv',sep=';',header=0,nrows=100000)"
   ]
  },
  {
   "cell_type": "code",
   "execution_count": 4,
   "metadata": {},
   "outputs": [
    {
     "name": "stdout",
     "output_type": "stream",
     "text": [
      "<class 'pandas.core.frame.DataFrame'>\n",
      "RangeIndex: 100000 entries, 0 to 99999\n",
      "Data columns (total 14 columns):\n",
      " #   Column          Non-Null Count   Dtype  \n",
      "---  ------          --------------   -----  \n",
      " 0   Region          100000 non-null  object \n",
      " 1   Country         100000 non-null  object \n",
      " 2   Item Type       100000 non-null  object \n",
      " 3   Sales Channel   100000 non-null  object \n",
      " 4   Order Priority  100000 non-null  object \n",
      " 5   Order Date      100000 non-null  object \n",
      " 6   Order ID        100000 non-null  int64  \n",
      " 7   Ship Date       100000 non-null  object \n",
      " 8   Units Sold      100000 non-null  int64  \n",
      " 9   Unit Price      100000 non-null  float64\n",
      " 10  Unit Cost       100000 non-null  float64\n",
      " 11  Total Revenue   100000 non-null  float64\n",
      " 12  Total Cost      100000 non-null  float64\n",
      " 13  Total Profit    100000 non-null  float64\n",
      "dtypes: float64(5), int64(2), object(7)\n",
      "memory usage: 10.7+ MB\n"
     ]
    }
   ],
   "source": [
    "dt.info()"
   ]
  }
 ],
 "metadata": {
  "kernelspec": {
   "display_name": "base",
   "language": "python",
   "name": "python3"
  },
  "language_info": {
   "codemirror_mode": {
    "name": "ipython",
    "version": 3
   },
   "file_extension": ".py",
   "mimetype": "text/x-python",
   "name": "python",
   "nbconvert_exporter": "python",
   "pygments_lexer": "ipython3",
   "version": "3.10.9"
  },
  "orig_nbformat": 4
 },
 "nbformat": 4,
 "nbformat_minor": 2
}
