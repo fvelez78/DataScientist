{
 "cells": [
  {
   "attachments": {},
   "cell_type": "markdown",
   "metadata": {},
   "source": [
    "## ARREGLOS CON NUMPY"
   ]
  },
  {
   "attachments": {},
   "cell_type": "markdown",
   "metadata": {},
   "source": [
    "### Declaración de arreglos"
   ]
  },
  {
   "cell_type": "code",
   "execution_count": 142,
   "metadata": {},
   "outputs": [],
   "source": [
    "import numpy as np\n",
    "import copy as cp"
   ]
  },
  {
   "attachments": {},
   "cell_type": "markdown",
   "metadata": {},
   "source": [
    "Definición de arreglos a partir de listas, por ejemplo un de una dimension."
   ]
  },
  {
   "cell_type": "code",
   "execution_count": 93,
   "metadata": {},
   "outputs": [
    {
     "name": "stdout",
     "output_type": "stream",
     "text": [
      "[1, 2, 3, 4, 5, 6]\n",
      "<class 'list'>\n",
      "[1 2 3 4 5 6]\n",
      "<class 'numpy.ndarray'>\n"
     ]
    }
   ],
   "source": [
    "L1=[1,2,3,4,5,6]\n",
    "print(L1)\n",
    "print(type(L1))\n",
    "Arr01=np.array(L1)\n",
    "print(Arr01)\n",
    "print(type(Arr01))"
   ]
  },
  {
   "attachments": {},
   "cell_type": "markdown",
   "metadata": {},
   "source": [
    "Para el caso de dos dimensiones se tendria:"
   ]
  },
  {
   "cell_type": "code",
   "execution_count": 94,
   "metadata": {},
   "outputs": [
    {
     "name": "stdout",
     "output_type": "stream",
     "text": [
      "[[ 1  2  3]\n",
      " [ 4  5  6]\n",
      " [ 7  8  9]\n",
      " [10 11 12]]\n"
     ]
    }
   ],
   "source": [
    "Arr02=np.array([[1,2,3],[4,5,6],[7,8,9],[10,11,12]])\n",
    "print(Arr02)\n"
   ]
  },
  {
   "attachments": {},
   "cell_type": "markdown",
   "metadata": {},
   "source": [
    "* Accediendo a los elemetos del arreglo"
   ]
  },
  {
   "cell_type": "code",
   "execution_count": 95,
   "metadata": {},
   "outputs": [
    {
     "data": {
      "text/plain": [
       "array([[4, 5, 6]])"
      ]
     },
     "execution_count": 95,
     "metadata": {},
     "output_type": "execute_result"
    }
   ],
   "source": [
    "Arr02[1:2]\n"
   ]
  },
  {
   "cell_type": "code",
   "execution_count": 96,
   "metadata": {},
   "outputs": [
    {
     "data": {
      "text/plain": [
       "6"
      ]
     },
     "execution_count": 96,
     "metadata": {},
     "output_type": "execute_result"
    }
   ],
   "source": [
    "Arr02[1,2]\n"
   ]
  },
  {
   "cell_type": "code",
   "execution_count": 97,
   "metadata": {},
   "outputs": [
    {
     "data": {
      "text/plain": [
       "array([[ 5],\n",
       "       [ 8],\n",
       "       [11]])"
      ]
     },
     "execution_count": 97,
     "metadata": {},
     "output_type": "execute_result"
    }
   ],
   "source": [
    "Arr02[1:,1:2]"
   ]
  },
  {
   "cell_type": "code",
   "execution_count": 98,
   "metadata": {},
   "outputs": [
    {
     "name": "stdout",
     "output_type": "stream",
     "text": [
      "[[[ 1  2  3]\n",
      "  [ 4  5  6]]\n",
      "\n",
      " [[ 7  8  9]\n",
      "  [10 11 12]]]\n"
     ]
    }
   ],
   "source": [
    "Arr03=np.array([[[1,2,3],[4,5,6]],[[7,8,9],[10,11,12]]])\n",
    "print(Arr03)"
   ]
  },
  {
   "attachments": {},
   "cell_type": "markdown",
   "metadata": {},
   "source": [
    "### Tipos de datos \n",
    "  \n",
    "  En los arreglos Python, el tipo de datos es igual para todos los elementos del arreglo."
   ]
  },
  {
   "cell_type": "code",
   "execution_count": 99,
   "metadata": {},
   "outputs": [
    {
     "name": "stdout",
     "output_type": "stream",
     "text": [
      "int64\n",
      "[1. 2. 3. 4. 5. 6.]\n"
     ]
    }
   ],
   "source": [
    "print(Arr01.dtype)\n",
    "Arr01=np.array(L1,dtype='float64')\n",
    "print(Arr01)"
   ]
  },
  {
   "cell_type": "code",
   "execution_count": 100,
   "metadata": {},
   "outputs": [
    {
     "data": {
      "text/plain": [
       "array([ True,  True, False,  True,  True,  True])"
      ]
     },
     "execution_count": 100,
     "metadata": {},
     "output_type": "execute_result"
    }
   ],
   "source": [
    "Arr04=Arr01\n",
    "Arr04[2]=0\n",
    "Arr04.astype(bool)"
   ]
  },
  {
   "attachments": {},
   "cell_type": "markdown",
   "metadata": {},
   "source": [
    "otros tipos de datos en http://numpy.org/doc/stable/user/basics.types.html"
   ]
  },
  {
   "attachments": {},
   "cell_type": "markdown",
   "metadata": {},
   "source": [
    "### Dimensiones"
   ]
  },
  {
   "cell_type": "code",
   "execution_count": 101,
   "metadata": {},
   "outputs": [
    {
     "name": "stdout",
     "output_type": "stream",
     "text": [
      "Dimension de Arr01:  1\n",
      "Dimension de Arr02:  2\n",
      "Dimension de Arr03:  3\n"
     ]
    }
   ],
   "source": [
    "print('Dimension de Arr01: ',Arr01.ndim)\n",
    "print('Dimension de Arr02: ',Arr02.ndim)\n",
    "print('Dimension de Arr03: ',Arr03.ndim)"
   ]
  },
  {
   "attachments": {},
   "cell_type": "markdown",
   "metadata": {},
   "source": [
    "Se puede modificar las dimensiones de un arreglo así:"
   ]
  },
  {
   "cell_type": "code",
   "execution_count": 102,
   "metadata": {},
   "outputs": [
    {
     "name": "stdout",
     "output_type": "stream",
     "text": [
      "[[1.]\n",
      " [2.]\n",
      " [0.]\n",
      " [4.]\n",
      " [5.]\n",
      " [6.]]\n",
      "[[[[[ 1  2  3]\n",
      "    [ 4  5  6]\n",
      "    [ 7  8  9]\n",
      "    [10 11 12]]]]]\n"
     ]
    }
   ],
   "source": [
    "# MOdificando la dimencion de un arreglo existente axis=0 (filas) axis=1 (columnas)\n",
    "Arr05=np.expand_dims(Arr04,axis=1)\n",
    "print(Arr05)\n",
    "# Al momeno de definir el arreglo\n",
    "Arr06=np.array(Arr02,ndmin=5)\n",
    "print(Arr06)"
   ]
  },
  {
   "attachments": {},
   "cell_type": "markdown",
   "metadata": {},
   "source": [
    "Para reducir un arreglo a las dimensiones no vacias estonces:"
   ]
  },
  {
   "cell_type": "code",
   "execution_count": 103,
   "metadata": {},
   "outputs": [
    {
     "data": {
      "text/plain": [
       "2"
      ]
     },
     "execution_count": 103,
     "metadata": {},
     "output_type": "execute_result"
    }
   ],
   "source": [
    "Arr07=np.squeeze(Arr06)\n",
    "Arr07.ndim\n"
   ]
  },
  {
   "attachments": {},
   "cell_type": "markdown",
   "metadata": {},
   "source": [
    "* Creando Arreglos desde Numpy"
   ]
  },
  {
   "cell_type": "code",
   "execution_count": 104,
   "metadata": {},
   "outputs": [
    {
     "name": "stdout",
     "output_type": "stream",
     "text": [
      "[2 3 4 5 6]\n",
      "[ 1  8 15 22 29]\n"
     ]
    }
   ],
   "source": [
    "Arr08=np.arange(2,7)\n",
    "print(Arr08)\n",
    "Arr09=np.arange(1,35,7)\n",
    "print(Arr09)"
   ]
  },
  {
   "attachments": {},
   "cell_type": "markdown",
   "metadata": {},
   "source": [
    "Arreglos especiales "
   ]
  },
  {
   "cell_type": "code",
   "execution_count": 105,
   "metadata": {},
   "outputs": [
    {
     "name": "stdout",
     "output_type": "stream",
     "text": [
      "\n",
      "Ceros Arr10: \n",
      " [[0. 0. 0.]\n",
      " [0. 0. 0.]\n",
      " [0. 0. 0.]\n",
      " [0. 0. 0.]\n",
      " [0. 0. 0.]]\n",
      "\n",
      "Unos Arr11: \n",
      " [[1. 1. 1. 1. 1. 1. 1. 1.]\n",
      " [1. 1. 1. 1. 1. 1. 1. 1.]\n",
      " [1. 1. 1. 1. 1. 1. 1. 1.]]\n",
      "\n",
      "Matriz identica Arr12: \n",
      " [[1. 0. 0. 0.]\n",
      " [0. 1. 0. 0.]\n",
      " [0. 0. 1. 0.]\n",
      " [0. 0. 0. 1.]]\n",
      "\n",
      "Equiespaciado Arr13: \n",
      " [ 0.          0.58823529  1.17647059  1.76470588  2.35294118  2.94117647\n",
      "  3.52941176  4.11764706  4.70588235  5.29411765  5.88235294  6.47058824\n",
      "  7.05882353  7.64705882  8.23529412  8.82352941  9.41176471 10.\n",
      " 10.58823529 11.17647059 11.76470588 12.35294118 12.94117647 13.52941176\n",
      " 14.11764706 14.70588235 15.29411765 15.88235294 16.47058824 17.05882353\n",
      " 17.64705882 18.23529412 18.82352941 19.41176471 20.        ]\n",
      "\n",
      "Aleatorios Arr14: \n",
      " [[0.74098673 0.60546522 0.60577715]\n",
      " [0.80803599 0.36115354 0.06590405]]\n",
      "\n",
      "Aleatorios enteros Arr15: \n",
      " [43 13 47  9 27 23 38 22 12 11 42 12 18  9 45 32 34 40 35 23 38 34 13 20\n",
      " 13]\n"
     ]
    }
   ],
   "source": [
    "# Arreglo de ceros\n",
    "Arr10=np.zeros((5,3))\n",
    "print('\\nCeros Arr10: \\n',Arr10)\n",
    "\n",
    "# Arreglo de unos\n",
    "Arr11=np.ones((3,8))\n",
    "print('\\nUnos Arr11: \\n',Arr11)\n",
    "\n",
    "# Matriz identica\n",
    "Arr12=np.eye((4))\n",
    "print('\\nMatriz identica Arr12: \\n',Arr12)\n",
    "\n",
    "# Arreglo equiespaiado\n",
    "Arr13=np.linspace(0,20,35)\n",
    "print('\\nEquiespaciado Arr13: \\n',Arr13)\n",
    "\n",
    "# Arreglo de aleatorios\n",
    "Arr14=np.random.rand(2,3)\n",
    "print('\\nAleatorios Arr14: \\n',Arr14)\n",
    "\n",
    "# Arreglo de aleatorios enteros\n",
    "Arr15=np.random.randint(9,48,25)\n",
    "print('\\nAleatorios enteros Arr15: \\n',Arr15)"
   ]
  },
  {
   "attachments": {},
   "cell_type": "markdown",
   "metadata": {},
   "source": [
    "* Forma de un arreglo\n",
    "\n",
    "Esto nos permite conocer la cantidad de elementos por cada dimension del arreglo"
   ]
  },
  {
   "cell_type": "code",
   "execution_count": 106,
   "metadata": {},
   "outputs": [
    {
     "name": "stdout",
     "output_type": "stream",
     "text": [
      "\n",
      " Tamaño del arreglo Arr12: \n",
      " (4, 4)\n"
     ]
    }
   ],
   "source": [
    "print('\\n Tamaño del arreglo Arr12: \\n',Arr12.shape)"
   ]
  },
  {
   "attachments": {},
   "cell_type": "markdown",
   "metadata": {},
   "source": [
    "Tambien se puede transformar la estructura de un arreglo:"
   ]
  },
  {
   "cell_type": "code",
   "execution_count": 107,
   "metadata": {},
   "outputs": [
    {
     "name": "stdout",
     "output_type": "stream",
     "text": [
      "\n",
      " Tamaño del arreglo Arr13: \n",
      " (35,)\n",
      "\n",
      " Tamaño del arreglo Arr16: \n",
      " (5, 7)\n",
      "<class 'numpy.ndarray'>\n"
     ]
    }
   ],
   "source": [
    "print('\\n Tamaño del arreglo Arr13: \\n',Arr13.shape)\n",
    "Arr16=np.reshape(Arr13,(5,7))\n",
    "print('\\n Tamaño del arreglo Arr16: \\n',Arr16.shape)\n",
    "print(type(Arr16))"
   ]
  },
  {
   "attachments": {},
   "cell_type": "markdown",
   "metadata": {},
   "source": [
    "## FUNCIONES DE NUMPY"
   ]
  },
  {
   "cell_type": "code",
   "execution_count": 114,
   "metadata": {},
   "outputs": [
    {
     "name": "stdout",
     "output_type": "stream",
     "text": [
      "\n",
      " Matriz de enteros aleatorios Arr17 \n",
      " [[43 13 47  9 27]\n",
      " [23 38 22 12 11]\n",
      " [42 12 18  9 45]\n",
      " [32 34 40 35 23]\n",
      " [38 34 13 20 13]]\n",
      "\n",
      " Elemento minimo del arreglo Arr17: \n",
      " 9\n",
      "\n",
      " Elemento maximo del arreglo Arr17: \n",
      " 47\n",
      "\n",
      " Rango del arreglo Arr17: \n",
      " 38\n"
     ]
    }
   ],
   "source": [
    "# Min, Max, Rango\n",
    "Arr17=Arr15.reshape(5,5)\n",
    "print('\\n Matriz de enteros aleatorios Arr17 \\n',Arr17)\n",
    "print('\\n Elemento minimo del arreglo Arr17: \\n',Arr17.min())\n",
    "print('\\n Elemento maximo del arreglo Arr17: \\n',Arr17.max())\n",
    "print('\\n Rango del arreglo Arr17: \\n',Arr17.ptp())\n"
   ]
  },
  {
   "cell_type": "code",
   "execution_count": 109,
   "metadata": {},
   "outputs": [
    {
     "name": "stdout",
     "output_type": "stream",
     "text": [
      "\n",
      " Elemento minimo del arreglo por fila Arr17: \n",
      " [1 2 4 0 1]\n",
      "\n",
      " Elemento maximo del arreglo por fila Arr17: \n",
      " [0 1 0 3 2]\n",
      "\n",
      " Rango del arreglo por fila Arr17: \n",
      " [20 26 34 26 34]\n",
      "\n",
      " Elemento minimo del arreglo por columna Arr17: \n",
      " [3 4 3 4 2]\n",
      "\n",
      " Elemento maximo del arreglo por columna Arr17: \n",
      " [2 1 4 2 0]\n",
      "\n",
      " Rango del arreglo por columna Arr17: \n",
      " [38 27 36 17 25]\n"
     ]
    }
   ],
   "source": [
    "\n",
    "# Min, Max, Rango por cada fila\n",
    "\n",
    "print('\\n Elemento minimo del arreglo por fila Arr17: \\n',Arr17.argmin(0))\n",
    "print('\\n Elemento maximo del arreglo por fila Arr17: \\n',Arr17.argmax(0))\n",
    "print('\\n Rango del arreglo por fila Arr17: \\n',Arr17.ptp(0))\n",
    "\n",
    "# Min, Max, Rango por cada columna\n",
    "\n",
    "print('\\n Elemento minimo del arreglo por columna Arr17: \\n',Arr17.argmin(1))\n",
    "print('\\n Elemento maximo del arreglo por columna Arr17: \\n',Arr17.argmax(1))\n",
    "print('\\n Rango del arreglo por columna Arr17: \\n',Arr17.ptp(1))"
   ]
  },
  {
   "attachments": {},
   "cell_type": "markdown",
   "metadata": {},
   "source": [
    "## Estadisticas básicas"
   ]
  },
  {
   "cell_type": "code",
   "execution_count": 110,
   "metadata": {},
   "outputs": [
    {
     "name": "stdout",
     "output_type": "stream",
     "text": [
      "\n",
      " Percentil 35 del arreglo Arr17: \n",
      " 18.799999999999997\n",
      "\n",
      " Mediana del arreglo Arr17: \n",
      " 23.0\n",
      "\n",
      " Varianza del arreglo Arr17: \n",
      " 156.5056\n",
      "\n",
      " Desv. estándar del arreglo Arr17: \n",
      " 12.51021982220936\n",
      "\n",
      " Media del arreglo Arr17: \n",
      " 26.12\n"
     ]
    }
   ],
   "source": [
    "# Percentile, mediana, media, desviacion estándar, varianza\n",
    "print('\\n Percentil 35 del arreglo Arr17: \\n',np.percentile(Arr17,35))\n",
    "print('\\n Mediana del arreglo Arr17: \\n',np.median(Arr17))\n",
    "print('\\n Varianza del arreglo Arr17: \\n',np.var(Arr17))\n",
    "print('\\n Desv. estándar del arreglo Arr17: \\n',np.std(Arr17))\n",
    "print('\\n Media del arreglo Arr17: \\n',np.mean(Arr17))"
   ]
  },
  {
   "attachments": {},
   "cell_type": "markdown",
   "metadata": {},
   "source": [
    "### Ordenamiento"
   ]
  },
  {
   "cell_type": "code",
   "execution_count": 112,
   "metadata": {},
   "outputs": [
    {
     "name": "stdout",
     "output_type": "stream",
     "text": [
      "\n",
      " Ordenando el arreglo Arr15: \n",
      " [ 9  9 11 12 12 13 13 13 18 20 22 23 23 27 32 34 34 35 38 38 40 42 43 45\n",
      " 47]\n"
     ]
    }
   ],
   "source": [
    "print('\\n Ordenando el arreglo Arr15: \\n',np.sort(Arr15))\n"
   ]
  },
  {
   "attachments": {},
   "cell_type": "markdown",
   "metadata": {},
   "source": [
    "### Concatenacion"
   ]
  },
  {
   "cell_type": "code",
   "execution_count": 144,
   "metadata": {},
   "outputs": [
    {
     "name": "stdout",
     "output_type": "stream",
     "text": [
      "\n",
      " Tamaño del arreglo Arr10: (5, 3)\n",
      " Tamaño del arreglo Arr17: (5, 5)\n",
      "\n",
      " Concatenación del arreglo Arr17 y Arr10 por columnas: \n",
      " [[43. 13. 47.  9. 27.  0.  0.  0.]\n",
      " [23. 38. 22. 12. 11.  0.  0.  0.]\n",
      " [42. 12. 18.  9. 45.  0.  0.  0.]\n",
      " [32. 34. 40. 35. 23.  0.  0.  0.]\n",
      " [38. 34. 13. 20. 13.  0.  0.  0.]]\n",
      "\n",
      "\n",
      " Tamaño del arreglo Arr07: (4, 3)\n",
      "\n",
      " Concatenación del arreglo Arr07 y Arr10 por filas: \n",
      " [[ 1.  2.  3.]\n",
      " [ 4.  5.  6.]\n",
      " [ 7.  8.  9.]\n",
      " [10. 11. 12.]\n",
      " [ 0.  0.  0.]\n",
      " [ 0.  0.  0.]\n",
      " [ 0.  0.  0.]\n",
      " [ 0.  0.  0.]\n",
      " [ 0.  0.  0.]]\n"
     ]
    }
   ],
   "source": [
    "#print('\\n \\n',Arr)\n",
    "print('\\n Tamaño del arreglo Arr10:',Arr10.shape)\n",
    "print(' Tamaño del arreglo Arr17:',Arr17.shape)\n",
    "Arr18=np.concatenate((Arr17,Arr10),axis=1)\n",
    "print('\\n Concatenación del arreglo Arr17 y Arr10 por columnas: \\n',Arr18)\n",
    "\n",
    "print('\\n\\n Tamaño del arreglo Arr07:',Arr07.shape)\n",
    "Arr19=np.concatenate((Arr07,Arr10),axis=0)\n",
    "print('\\n Concatenación del arreglo Arr07 y Arr10 por filas: \\n',Arr19)\n"
   ]
  },
  {
   "attachments": {},
   "cell_type": "markdown",
   "metadata": {},
   "source": [
    "### Transpuesta de un arreglo"
   ]
  },
  {
   "cell_type": "code",
   "execution_count": 145,
   "metadata": {},
   "outputs": [
    {
     "name": "stdout",
     "output_type": "stream",
     "text": [
      "[[ 1.  4.  7. 10.  0.  0.  0.  0.  0.]\n",
      " [ 2.  5.  8. 11.  0.  0.  0.  0.  0.]\n",
      " [ 3.  6.  9. 12.  0.  0.  0.  0.  0.]]\n"
     ]
    }
   ],
   "source": [
    "Arr20=cp.copy(Arr19.T)\n",
    "print(Arr20)"
   ]
  },
  {
   "attachments": {},
   "cell_type": "markdown",
   "metadata": {},
   "source": [
    "### Copy\n",
    "\n",
    "La modificación de objetos tras la reasignacion puede cambiar el arreglo original, lo cua se ilustra a continuación:"
   ]
  },
  {
   "cell_type": "code",
   "execution_count": 146,
   "metadata": {},
   "outputs": [
    {
     "name": "stdout",
     "output_type": "stream",
     "text": [
      "\n",
      "Arreglo 21 inicial \n",
      " [[ 7. 10.  0.  0.]\n",
      " [ 8. 11.  0.  0.]\n",
      " [ 9. 12.  0.  0.]]\n",
      "\n",
      "Arreglo 21 modificado \n",
      " [[   7. 1000.    0.    0.]\n",
      " [   8. 1100.    0.    0.]\n",
      " [   9. 1200.    0.    0.]]\n",
      "\n",
      "Arreglo 20 \n",
      " [[1.0e+00 4.0e+00 7.0e+00 1.0e+03 0.0e+00 0.0e+00 0.0e+00 0.0e+00 0.0e+00]\n",
      " [2.0e+00 5.0e+00 8.0e+00 1.1e+03 0.0e+00 0.0e+00 0.0e+00 0.0e+00 0.0e+00]\n",
      " [3.0e+00 6.0e+00 9.0e+00 1.2e+03 0.0e+00 0.0e+00 0.0e+00 0.0e+00 0.0e+00]]\n"
     ]
    }
   ],
   "source": [
    "Arr21=Arr20[:,2:6]\n",
    "print('\\nArreglo 21 inicial \\n',Arr21)\n",
    "Arr21[:,1]=100*Arr21[:,1]\n",
    "print('\\nArreglo 21 modificado \\n',Arr21)\n",
    "print('\\nArreglo 20 \\n',Arr20)"
   ]
  },
  {
   "attachments": {},
   "cell_type": "markdown",
   "metadata": {},
   "source": [
    "lo correcto sería generar primero una copia del arreglo para lo cual hay varias opciones, una de ellas usando el comando copy de la libreria copy."
   ]
  },
  {
   "cell_type": "code",
   "execution_count": 149,
   "metadata": {},
   "outputs": [
    {
     "name": "stdout",
     "output_type": "stream",
     "text": [
      "[[ 1  2  3]\n",
      " [ 4  5  6]\n",
      " [ 7  8  9]\n",
      " [10 11 12]\n",
      " [ 0  0  0]\n",
      " [ 0  0  0]\n",
      " [ 0  0  0]\n",
      " [ 0  0  0]\n",
      " [ 0  0  0]]\n",
      "\n",
      "Arreglo 22 inicial \n",
      " [[ 7. 10.  0.  0.]\n",
      " [ 8. 11.  0.  0.]\n",
      " [ 9. 12.  0.  0.]]\n",
      "\n",
      "Arreglo 22 modificado \n",
      " [[   7. 1000.    0.    0.]\n",
      " [   8. 1100.    0.    0.]\n",
      " [   9. 1200.    0.    0.]]\n",
      "\n",
      "Arreglo 20 \n",
      " [[ 1.  4.  7. 10.  0.  0.  0.  0.  0.]\n",
      " [ 2.  5.  8. 11.  0.  0.  0.  0.  0.]\n",
      " [ 3.  6.  9. 12.  0.  0.  0.  0.  0.]]\n"
     ]
    }
   ],
   "source": [
    "Arr20=cp.copy(Arr19.T)\n",
    "print(Arr19.astype('int32'))\n",
    "Arr22=Arr20[:,2:6]*1\n",
    "print('\\nArreglo 22 inicial \\n',Arr22)\n",
    "Arr22[:,1]=100*Arr22[:,1]\n",
    "print('\\nArreglo 22 modificado \\n',Arr22)\n",
    "print('\\nArreglo 20 \\n',Arr20)"
   ]
  },
  {
   "attachments": {},
   "cell_type": "markdown",
   "metadata": {},
   "source": [
    "### Condiciones sobre arreglos\n",
    "  \n",
    "  Esto es una forma de filtros sobre arreglos"
   ]
  },
  {
   "cell_type": "code",
   "execution_count": 154,
   "metadata": {},
   "outputs": [
    {
     "name": "stdout",
     "output_type": "stream",
     "text": [
      "\n",
      " Lista Booleana bajo la condicion\n",
      " [ True  True  True  True  True  True  True  True  True  True  True  True\n",
      "  True  True  True  True  True False False False False False False False\n",
      " False False False False False False False False False False False]\n",
      "\n",
      " Areglo filtrado bajo la condicion\n",
      " [0.         0.58823529 1.17647059 1.76470588 2.35294118 2.94117647\n",
      " 3.52941176 4.11764706 4.70588235 5.29411765 5.88235294 6.47058824\n",
      " 7.05882353 7.64705882 8.23529412 8.82352941 9.41176471]\n"
     ]
    }
   ],
   "source": [
    "#print('\\n \\n',Arr)\n",
    "Arr23=Arr13<10\n",
    "print('\\n Lista Booleana bajo la condicion\\n',Arr23)\n",
    "ind_Arr23=Arr13<10\n",
    "Arr24=Arr13[ind_Arr23]\n",
    "print('\\n Arreglo filtrado bajo la condicion\\n',Arr24)"
   ]
  },
  {
   "attachments": {},
   "cell_type": "markdown",
   "metadata": {},
   "source": [
    "haciendolo directamente se tendria:"
   ]
  },
  {
   "cell_type": "code",
   "execution_count": 155,
   "metadata": {},
   "outputs": [
    {
     "name": "stdout",
     "output_type": "stream",
     "text": [
      "\n",
      " Arreglo filtrado directamente bajo la condicion\n",
      " [0.         0.58823529 1.17647059 1.76470588 2.35294118 2.94117647\n",
      " 3.52941176 4.11764706 4.70588235 5.29411765 5.88235294 6.47058824\n",
      " 7.05882353 7.64705882 8.23529412 8.82352941 9.41176471]\n"
     ]
    }
   ],
   "source": [
    "Arr25=Arr13[Arr13<10]\n",
    "print('\\n Arreglo filtrado directamente bajo la condicion\\n',Arr25)"
   ]
  },
  {
   "attachments": {},
   "cell_type": "markdown",
   "metadata": {},
   "source": [
    "## Operaciones con arreglos y escalares"
   ]
  },
  {
   "cell_type": "code",
   "execution_count": 160,
   "metadata": {},
   "outputs": [
    {
     "name": "stdout",
     "output_type": "stream",
     "text": [
      "\n",
      "Arreglo 8 \n",
      " [2 3 4 5 6]\n",
      "\n",
      "Multiplicacion por un escalar  \n",
      " [ 4  6  8 10 12]\n",
      "\n",
      "Suma de un escalar  \n",
      " [4 5 6 7 8]\n"
     ]
    }
   ],
   "source": [
    "print('\\nArreglo 8 \\n',Arr08)\n",
    "Arr26=Arr08*2\n",
    "print('\\nMultiplicacion por un escalar  \\n',Arr26)\n",
    "Arr27=Arr08+2\n",
    "print('\\nSuma de un escalar  \\n',Arr27)"
   ]
  },
  {
   "attachments": {},
   "cell_type": "markdown",
   "metadata": {},
   "source": [
    "### Operaciones entre arreglos"
   ]
  },
  {
   "cell_type": "code",
   "execution_count": 177,
   "metadata": {},
   "outputs": [
    {
     "name": "stdout",
     "output_type": "stream",
     "text": [
      "\n",
      " Tamaño del arreglo Arr28:  (1, 5)\n",
      "\n",
      " Tamaño del arreglo Arr17:  (5, 5)\n",
      "\n",
      " Arreglo resultante de la multiplicacion:\n",
      "  [[2663 2231 1750 1590 1673]] \n",
      " [[2663 2231 1750 1590 1673]]\n",
      "\n",
      " Arreglo resultante de la multiplicacion: \n",
      " [[1833]\n",
      " [1240]\n",
      " [1911]\n",
      " [2341]\n",
      " [1322]] \n",
      "\n",
      " [[1833]\n",
      " [1240]\n",
      " [1911]\n",
      " [2341]\n",
      " [1322]]\n",
      "\n",
      "Valores aleatorios \n",
      " [[9]\n",
      " [1]\n",
      " [5]\n",
      " [4]\n",
      " [6]]\n"
     ]
    }
   ],
   "source": [
    "Arr28=cp.copy(Arr09.reshape((1,5)))\n",
    "print('\\n Tamaño del arreglo Arr28: ',Arr28.shape)\n",
    "print('\\n Tamaño del arreglo Arr17: ',Arr17.shape)\n",
    "\n",
    "Arr29=np.matmul(Arr28,Arr17)\n",
    "Arr30=Arr28@Arr17\n",
    "print('\\n Arreglo resultante de la multiplicacion:\\n ',Arr29,'\\n', Arr30)\n",
    "\n",
    "Arr31=np.matmul(Arr17,Arr28.T)\n",
    "Arr32=Arr17@Arr28.T\n",
    "print('\\n Arreglo resultante de la multiplicacion: \\n',Arr31,'\\n\\n', Arr32)\n"
   ]
  },
  {
   "cell_type": "code",
   "execution_count": 179,
   "metadata": {},
   "outputs": [
    {
     "name": "stdout",
     "output_type": "stream",
     "text": [
      "\n",
      "Valores aleatorios \n",
      " [[3]\n",
      " [8]\n",
      " [0]\n",
      " [5]\n",
      " [6]]\n",
      "Arreglo suma \n",
      " [[1836]\n",
      " [1248]\n",
      " [1911]\n",
      " [2346]\n",
      " [1328]]\n"
     ]
    }
   ],
   "source": [
    "\n",
    "Arr33=np.random.randint(0,10,5).reshape((5,1))\n",
    "print('\\nValores aleatorios \\n',Arr33)\n",
    "Arr34=Arr32+Arr33\n",
    "print('Arreglo suma \\n',Arr34)"
   ]
  }
 ],
 "metadata": {
  "kernelspec": {
   "display_name": "base",
   "language": "python",
   "name": "python3"
  },
  "language_info": {
   "codemirror_mode": {
    "name": "ipython",
    "version": 3
   },
   "file_extension": ".py",
   "mimetype": "text/x-python",
   "name": "python",
   "nbconvert_exporter": "python",
   "pygments_lexer": "ipython3",
   "version": "3.10.9"
  },
  "orig_nbformat": 4
 },
 "nbformat": 4,
 "nbformat_minor": 2
}
